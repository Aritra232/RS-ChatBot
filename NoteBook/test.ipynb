{
 "cells": [
  {
   "cell_type": "code",
   "execution_count": 1,
   "metadata": {},
   "outputs": [],
   "source": [
    "from langchain import PromptTemplate\n",
    "from langchain.chains import RetrievalQA\n",
    "from langchain.embeddings import HuggingFaceEmbeddings\n",
    "from langchain.vectorstores import Pinecone\n",
    "from langchain.document_loaders import PyPDFLoader, DirectoryLoader\n",
    "from langchain.text_splitter import RecursiveCharacterTextSplitter\n",
    "from langchain.prompts import PromptTemplate\n",
    "from langchain.llms import CTransformers"
   ]
  },
  {
   "cell_type": "code",
   "execution_count": 2,
   "metadata": {},
   "outputs": [],
   "source": [
    "PINECONE_API_KEY = \"YOUR_OPENAI_KEY\"\n",
    "PINECONE_API_ENV = \"YOUR_ENV\""
   ]
  },
  {
   "cell_type": "code",
   "execution_count": 3,
   "metadata": {},
   "outputs": [],
   "source": [
    "#Extract data from the PDF\n",
    "def load_pdf(data):\n",
    "    loader = DirectoryLoader(data,\n",
    "                    glob=\"*.pdf\",\n",
    "                    loader_cls=PyPDFLoader)\n",
    "    \n",
    "    documents = loader.load()\n",
    "\n",
    "    return documents"
   ]
  },
  {
   "cell_type": "code",
   "execution_count": 5,
   "metadata": {},
   "outputs": [],
   "source": [
    "extracted_data = load_pdf(\"Data/\")"
   ]
  },
  {
   "cell_type": "code",
   "execution_count": 6,
   "metadata": {},
   "outputs": [
    {
     "data": {
      "text/plain": [
       "10794"
      ]
     },
     "execution_count": 6,
     "metadata": {},
     "output_type": "execute_result"
    }
   ],
   "source": [
    "len(extracted_data)"
   ]
  },
  {
   "cell_type": "code",
   "execution_count": 7,
   "metadata": {},
   "outputs": [],
   "source": [
    "#Create text chunks\n",
    "def text_split(extracted_data):\n",
    "    text_splitter = RecursiveCharacterTextSplitter(chunk_size = 500, chunk_overlap = 20)\n",
    "    text_chunks = text_splitter.split_documents(extracted_data)\n",
    "\n",
    "    return text_chunks"
   ]
  },
  {
   "cell_type": "code",
   "execution_count": 8,
   "metadata": {},
   "outputs": [
    {
     "data": {
      "text/plain": [
       "101380"
      ]
     },
     "execution_count": 8,
     "metadata": {},
     "output_type": "execute_result"
    }
   ],
   "source": [
    "text_chunks = text_split(extracted_data)\n",
    "len(text_chunks)"
   ]
  },
  {
   "cell_type": "code",
   "execution_count": 9,
   "metadata": {},
   "outputs": [],
   "source": [
    "#download embedding model\n",
    "def download_hugging_face_embeddings():\n",
    "    embeddings = HuggingFaceEmbeddings(model_name=\"sentence-transformers/all-MiniLM-L6-v2\")\n",
    "    return embeddings"
   ]
  },
  {
   "cell_type": "code",
   "execution_count": null,
   "metadata": {},
   "outputs": [
    {
     "name": "stdout",
     "output_type": "stream",
     "text": [
      "Requirement already satisfied: sentence-transformers in c:\\users\\hp\\.conda\\envs\\rscb\\lib\\site-packages (2.4.0)\n",
      "Requirement already satisfied: transformers<5.0.0,>=4.32.0 in c:\\users\\hp\\.conda\\envs\\rscb\\lib\\site-packages (from sentence-transformers) (4.38.1)\n",
      "Requirement already satisfied: tqdm in c:\\users\\hp\\.conda\\envs\\rscb\\lib\\site-packages (from sentence-transformers) (4.66.2)\n",
      "Requirement already satisfied: torch>=1.11.0 in c:\\users\\hp\\.conda\\envs\\rscb\\lib\\site-packages (from sentence-transformers) (2.2.1)\n",
      "Requirement already satisfied: numpy in c:\\users\\hp\\.conda\\envs\\rscb\\lib\\site-packages (from sentence-transformers) (1.24.4)\n",
      "Requirement already satisfied: scikit-learn in c:\\users\\hp\\.conda\\envs\\rscb\\lib\\site-packages (from sentence-transformers) (1.3.2)\n",
      "Requirement already satisfied: scipy in c:\\users\\hp\\.conda\\envs\\rscb\\lib\\site-packages (from sentence-transformers) (1.10.1)\n",
      "Requirement already satisfied: huggingface-hub>=0.15.1 in c:\\users\\hp\\.conda\\envs\\rscb\\lib\\site-packages (from sentence-transformers) (0.21.2)\n",
      "Requirement already satisfied: Pillow in c:\\users\\hp\\.conda\\envs\\rscb\\lib\\site-packages (from sentence-transformers) (10.2.0)\n",
      "Requirement already satisfied: filelock in c:\\users\\hp\\.conda\\envs\\rscb\\lib\\site-packages (from huggingface-hub>=0.15.1->sentence-transformers) (3.13.1)\n",
      "Requirement already satisfied: fsspec>=2023.5.0 in c:\\users\\hp\\.conda\\envs\\rscb\\lib\\site-packages (from huggingface-hub>=0.15.1->sentence-transformers) (2024.2.0)\n",
      "Requirement already satisfied: requests in c:\\users\\hp\\.conda\\envs\\rscb\\lib\\site-packages (from huggingface-hub>=0.15.1->sentence-transformers) (2.31.0)\n",
      "Requirement already satisfied: pyyaml>=5.1 in c:\\users\\hp\\.conda\\envs\\rscb\\lib\\site-packages (from huggingface-hub>=0.15.1->sentence-transformers) (6.0.1)\n",
      "Requirement already satisfied: typing-extensions>=3.7.4.3 in c:\\users\\hp\\.conda\\envs\\rscb\\lib\\site-packages (from huggingface-hub>=0.15.1->sentence-transformers) (4.10.0)\n",
      "Requirement already satisfied: packaging>=20.9 in c:\\users\\hp\\.conda\\envs\\rscb\\lib\\site-packages (from huggingface-hub>=0.15.1->sentence-transformers) (23.2)\n",
      "Requirement already satisfied: sympy in c:\\users\\hp\\.conda\\envs\\rscb\\lib\\site-packages (from torch>=1.11.0->sentence-transformers) (1.12)\n",
      "Requirement already satisfied: networkx in c:\\users\\hp\\.conda\\envs\\rscb\\lib\\site-packages (from torch>=1.11.0->sentence-transformers) (3.1)\n",
      "Requirement already satisfied: jinja2 in c:\\users\\hp\\.conda\\envs\\rscb\\lib\\site-packages (from torch>=1.11.0->sentence-transformers) (3.1.3)\n",
      "Requirement already satisfied: colorama in c:\\users\\hp\\.conda\\envs\\rscb\\lib\\site-packages (from tqdm->sentence-transformers) (0.4.6)\n",
      "Requirement already satisfied: regex!=2019.12.17 in c:\\users\\hp\\.conda\\envs\\rscb\\lib\\site-packages (from transformers<5.0.0,>=4.32.0->sentence-transformers) (2023.12.25)\n",
      "Requirement already satisfied: tokenizers<0.19,>=0.14 in c:\\users\\hp\\.conda\\envs\\rscb\\lib\\site-packages (from transformers<5.0.0,>=4.32.0->sentence-transformers) (0.15.2)\n",
      "Requirement already satisfied: safetensors>=0.4.1 in c:\\users\\hp\\.conda\\envs\\rscb\\lib\\site-packages (from transformers<5.0.0,>=4.32.0->sentence-transformers) (0.4.2)\n",
      "Requirement already satisfied: joblib>=1.1.1 in c:\\users\\hp\\.conda\\envs\\rscb\\lib\\site-packages (from scikit-learn->sentence-transformers) (1.3.2)\n",
      "Requirement already satisfied: threadpoolctl>=2.0.0 in c:\\users\\hp\\.conda\\envs\\rscb\\lib\\site-packages (from scikit-learn->sentence-transformers) (3.3.0)\n",
      "Requirement already satisfied: MarkupSafe>=2.0 in c:\\users\\hp\\.conda\\envs\\rscb\\lib\\site-packages (from jinja2->torch>=1.11.0->sentence-transformers) (2.1.5)\n",
      "Requirement already satisfied: charset-normalizer<4,>=2 in c:\\users\\hp\\.conda\\envs\\rscb\\lib\\site-packages (from requests->huggingface-hub>=0.15.1->sentence-transformers) (3.3.2)\n",
      "Requirement already satisfied: idna<4,>=2.5 in c:\\users\\hp\\.conda\\envs\\rscb\\lib\\site-packages (from requests->huggingface-hub>=0.15.1->sentence-transformers) (3.6)\n",
      "Requirement already satisfied: urllib3<3,>=1.21.1 in c:\\users\\hp\\.conda\\envs\\rscb\\lib\\site-packages (from requests->huggingface-hub>=0.15.1->sentence-transformers) (2.2.1)\n",
      "Requirement already satisfied: certifi>=2017.4.17 in c:\\users\\hp\\.conda\\envs\\rscb\\lib\\site-packages (from requests->huggingface-hub>=0.15.1->sentence-transformers) (2024.2.2)\n",
      "Requirement already satisfied: mpmath>=0.19 in c:\\users\\hp\\.conda\\envs\\rscb\\lib\\site-packages (from sympy->torch>=1.11.0->sentence-transformers) (1.3.0)\n",
      "Note: you may need to restart the kernel to use updated packages.\n"
     ]
    }
   ],
   "source": [
    "%pip install sentence-transformers"
   ]
  },
  {
   "cell_type": "code",
   "execution_count": 10,
   "metadata": {},
   "outputs": [
    {
     "name": "stderr",
     "output_type": "stream",
     "text": [
      "c:\\Users\\hp\\.conda\\envs\\rscb\\lib\\site-packages\\tqdm\\auto.py:21: TqdmWarning: IProgress not found. Please update jupyter and ipywidgets. See https://ipywidgets.readthedocs.io/en/stable/user_install.html\n",
      "  from .autonotebook import tqdm as notebook_tqdm\n"
     ]
    },
    {
     "data": {
      "text/plain": [
       "HuggingFaceEmbeddings(client=SentenceTransformer(\n",
       "  (0): Transformer({'max_seq_length': 256, 'do_lower_case': False}) with Transformer model: BertModel \n",
       "  (1): Pooling({'word_embedding_dimension': 384, 'pooling_mode_cls_token': False, 'pooling_mode_mean_tokens': True, 'pooling_mode_max_tokens': False, 'pooling_mode_mean_sqrt_len_tokens': False, 'pooling_mode_weightedmean_tokens': False, 'pooling_mode_lasttoken': False, 'include_prompt': True})\n",
       "  (2): Normalize()\n",
       "), model_name='sentence-transformers/all-MiniLM-L6-v2', cache_folder=None, model_kwargs={}, encode_kwargs={}, multi_process=False, show_progress=False)"
      ]
     },
     "execution_count": 10,
     "metadata": {},
     "output_type": "execute_result"
    }
   ],
   "source": [
    "embeddings = download_hugging_face_embeddings()\n",
    "embeddings"
   ]
  },
  {
   "cell_type": "code",
   "execution_count": 11,
   "metadata": {},
   "outputs": [
    {
     "name": "stdout",
     "output_type": "stream",
     "text": [
      "Length 384\n"
     ]
    }
   ],
   "source": [
    "query_result = embeddings.embed_query(\"Hello world\")\n",
    "print(\"Length\", len(query_result))"
   ]
  },
  {
   "cell_type": "code",
   "execution_count": null,
   "metadata": {},
   "outputs": [
    {
     "name": "stdout",
     "output_type": "stream",
     "text": [
      "Collecting langchain-pinecone\n",
      "  Downloading langchain_pinecone-0.0.3-py3-none-any.whl.metadata (1.4 kB)\n",
      "Requirement already satisfied: langchain-core<0.2,>=0.1 in c:\\users\\hp\\.conda\\envs\\rscb\\lib\\site-packages (from langchain-pinecone) (0.1.27)\n",
      "Requirement already satisfied: numpy<2,>=1 in c:\\users\\hp\\.conda\\envs\\rscb\\lib\\site-packages (from langchain-pinecone) (1.24.4)\n",
      "Collecting pinecone-client<4,>=3 (from langchain-pinecone)\n",
      "  Using cached pinecone_client-3.1.0-py3-none-any.whl.metadata (14 kB)\n",
      "Requirement already satisfied: PyYAML>=5.3 in c:\\users\\hp\\.conda\\envs\\rscb\\lib\\site-packages (from langchain-core<0.2,>=0.1->langchain-pinecone) (6.0.1)\n",
      "Requirement already satisfied: anyio<5,>=3 in c:\\users\\hp\\.conda\\envs\\rscb\\lib\\site-packages (from langchain-core<0.2,>=0.1->langchain-pinecone) (4.3.0)\n",
      "Requirement already satisfied: jsonpatch<2.0,>=1.33 in c:\\users\\hp\\.conda\\envs\\rscb\\lib\\site-packages (from langchain-core<0.2,>=0.1->langchain-pinecone) (1.33)\n",
      "Requirement already satisfied: langsmith<0.2.0,>=0.1.0 in c:\\users\\hp\\.conda\\envs\\rscb\\lib\\site-packages (from langchain-core<0.2,>=0.1->langchain-pinecone) (0.1.10)\n",
      "Requirement already satisfied: packaging<24.0,>=23.2 in c:\\users\\hp\\.conda\\envs\\rscb\\lib\\site-packages (from langchain-core<0.2,>=0.1->langchain-pinecone) (23.2)\n",
      "Requirement already satisfied: pydantic<3,>=1 in c:\\users\\hp\\.conda\\envs\\rscb\\lib\\site-packages (from langchain-core<0.2,>=0.1->langchain-pinecone) (2.6.3)\n",
      "Requirement already satisfied: requests<3,>=2 in c:\\users\\hp\\.conda\\envs\\rscb\\lib\\site-packages (from langchain-core<0.2,>=0.1->langchain-pinecone) (2.31.0)\n",
      "Requirement already satisfied: tenacity<9.0.0,>=8.1.0 in c:\\users\\hp\\.conda\\envs\\rscb\\lib\\site-packages (from langchain-core<0.2,>=0.1->langchain-pinecone) (8.2.3)\n",
      "Requirement already satisfied: certifi>=2019.11.17 in c:\\users\\hp\\.conda\\envs\\rscb\\lib\\site-packages (from pinecone-client<4,>=3->langchain-pinecone) (2024.2.2)\n",
      "Requirement already satisfied: tqdm>=4.64.1 in c:\\users\\hp\\.conda\\envs\\rscb\\lib\\site-packages (from pinecone-client<4,>=3->langchain-pinecone) (4.66.2)\n",
      "Requirement already satisfied: typing-extensions>=3.7.4 in c:\\users\\hp\\.conda\\envs\\rscb\\lib\\site-packages (from pinecone-client<4,>=3->langchain-pinecone) (4.10.0)\n",
      "Requirement already satisfied: urllib3>=1.26.0 in c:\\users\\hp\\.conda\\envs\\rscb\\lib\\site-packages (from pinecone-client<4,>=3->langchain-pinecone) (2.2.1)\n",
      "Requirement already satisfied: idna>=2.8 in c:\\users\\hp\\.conda\\envs\\rscb\\lib\\site-packages (from anyio<5,>=3->langchain-core<0.2,>=0.1->langchain-pinecone) (3.6)\n",
      "Requirement already satisfied: sniffio>=1.1 in c:\\users\\hp\\.conda\\envs\\rscb\\lib\\site-packages (from anyio<5,>=3->langchain-core<0.2,>=0.1->langchain-pinecone) (1.3.1)\n",
      "Requirement already satisfied: exceptiongroup>=1.0.2 in c:\\users\\hp\\.conda\\envs\\rscb\\lib\\site-packages (from anyio<5,>=3->langchain-core<0.2,>=0.1->langchain-pinecone) (1.2.0)\n",
      "Requirement already satisfied: jsonpointer>=1.9 in c:\\users\\hp\\.conda\\envs\\rscb\\lib\\site-packages (from jsonpatch<2.0,>=1.33->langchain-core<0.2,>=0.1->langchain-pinecone) (2.4)\n",
      "Requirement already satisfied: orjson<4.0.0,>=3.9.14 in c:\\users\\hp\\.conda\\envs\\rscb\\lib\\site-packages (from langsmith<0.2.0,>=0.1.0->langchain-core<0.2,>=0.1->langchain-pinecone) (3.9.15)\n",
      "Requirement already satisfied: annotated-types>=0.4.0 in c:\\users\\hp\\.conda\\envs\\rscb\\lib\\site-packages (from pydantic<3,>=1->langchain-core<0.2,>=0.1->langchain-pinecone) (0.6.0)\n",
      "Requirement already satisfied: pydantic-core==2.16.3 in c:\\users\\hp\\.conda\\envs\\rscb\\lib\\site-packages (from pydantic<3,>=1->langchain-core<0.2,>=0.1->langchain-pinecone) (2.16.3)\n",
      "Requirement already satisfied: charset-normalizer<4,>=2 in c:\\users\\hp\\.conda\\envs\\rscb\\lib\\site-packages (from requests<3,>=2->langchain-core<0.2,>=0.1->langchain-pinecone) (3.3.2)\n",
      "Requirement already satisfied: colorama in c:\\users\\hp\\.conda\\envs\\rscb\\lib\\site-packages (from tqdm>=4.64.1->pinecone-client<4,>=3->langchain-pinecone) (0.4.6)\n",
      "Downloading langchain_pinecone-0.0.3-py3-none-any.whl (8.3 kB)\n",
      "Using cached pinecone_client-3.1.0-py3-none-any.whl (210 kB)\n",
      "Installing collected packages: pinecone-client, langchain-pinecone\n",
      "Successfully installed langchain-pinecone-0.0.3 pinecone-client-3.1.0\n",
      "Note: you may need to restart the kernel to use updated packages.\n"
     ]
    }
   ],
   "source": [
    "%pip install langchain-pinecone"
   ]
  },
  {
   "cell_type": "code",
   "execution_count": null,
   "metadata": {},
   "outputs": [],
   "source": [
    "from langchain_pinecone import Pinecone\n",
    "import os\n",
    "os.environ['PINECONE_API_KEY'] = PINECONE_API_KEY\n",
    "index_name = \"test\"\n",
    "\n",
    "vector_database_index = Pinecone.from_documents(\n",
    "                                            index_name = index_name,\n",
    "                                            documents = text_chunks,\n",
    "                                            embedding = embeddings)\n",
    "\n",
    " "
   ]
  },
  {
   "cell_type": "code",
   "execution_count": 14,
   "metadata": {},
   "outputs": [
    {
     "name": "stdout",
     "output_type": "stream",
     "text": [
      "Result [Document(page_content=\"thanks you daraz realme C53 (6/128) If you are looking for Smart Phones, I have the perfect suggestion for you. \\nIt's realme C53 (6/128), a product that has received Positive feedback \\nfrom other customers. This product belongs to the Smart Phones category, \\nand it has a Positive reputation. It can make you feel Love when you use \\nit. You can find it in Daraz, where you can also read more reviews and \\nratings.\\nĺকনার  আেগ ĺদেখ আসুন  িভিডও।। সাচ ক˙ন  PRB786 িলেখ youtube,facebook,\", metadata={'page': 12.0, 'source': 'Data\\\\data.pdf'}), Document(page_content=\"Mobile Phone If you are looking for Smart Phones, I have the perfect suggestion for you. \\nIt's Symphony Z45 Smartphone Mobile Phone, a product that has received \\nPositive feedback from other customers. This product belongs to the \\nSmart Phones category, and it has a Positive reputation. It can make you \\nfeel Love when you use it. You can find it in Daraz, where you can also \\nread more reviews and ratings.\\nĺƵাডাǋǅ  ইেȥক  িছেলা, একিদেনই  ĺডিলভাির  ĺপেয়িছ। এখন পযŪȭ ভােলাই  চলেছ। িকˍ\", metadata={'page': 55.0, 'source': 'Data\\\\data.pdf'}), Document(page_content=\"Phone If you are looking for Smart Phones, I have the perfect suggestion for you. \\nIt's Realme C30s (3GB/64GB) Mobile Phone, a product that has received \\nPositive feedback from other customers. This product belongs to the \\nSmart Phones category, and it has a Positive reputation. It can make you \\nfeel Love when you use it. You can find it in Daraz, where you can also \\nread more reviews and ratings.\\nAuthentic product!\\nGot discount n cheaper than any other platformsRealme C30s (3GB/64GB) Mobile\", metadata={'page': 20.0, 'source': 'Data\\\\data.pdf'})]\n"
     ]
    }
   ],
   "source": [
    "#If we already have an index we can load it like this\n",
    "docsearch=Pinecone.from_existing_index(index_name, embeddings)\n",
    "\n",
    "query = \"Suggest me a Smartphone\"\n",
    "\n",
    "docs=docsearch.similarity_search(query, k=3)\n",
    "\n",
    "print(\"Result\", docs)"
   ]
  },
  {
   "cell_type": "code",
   "execution_count": 15,
   "metadata": {},
   "outputs": [],
   "source": [
    "prompt_template=\"\"\"\n",
    "Use the following pieces of information to answer the user's question.\n",
    "If you don't know the answer, just say that you don't know, don't try to make up an answer.\n",
    "\n",
    "Context: {context}\n",
    "Question: {question}\n",
    "\n",
    "Only return the helpful answer below and nothing else.\n",
    "Helpful answer:\n",
    "\"\"\""
   ]
  },
  {
   "cell_type": "code",
   "execution_count": 16,
   "metadata": {},
   "outputs": [],
   "source": [
    "PROMPT=PromptTemplate(template=prompt_template, input_variables=[\"context\", \"question\"])\n",
    "chain_type_kwargs={\"prompt\": PROMPT}"
   ]
  },
  {
   "cell_type": "code",
   "execution_count": null,
   "metadata": {},
   "outputs": [
    {
     "name": "stdout",
     "output_type": "stream",
     "text": [
      "Requirement already satisfied: CTransformers in c:\\users\\hp\\.conda\\envs\\rscb\\lib\\site-packages (0.2.27)\n",
      "Requirement already satisfied: huggingface-hub in c:\\users\\hp\\.conda\\envs\\rscb\\lib\\site-packages (from CTransformers) (0.21.2)\n",
      "Requirement already satisfied: py-cpuinfo<10.0.0,>=9.0.0 in c:\\users\\hp\\.conda\\envs\\rscb\\lib\\site-packages (from CTransformers) (9.0.0)\n",
      "Requirement already satisfied: filelock in c:\\users\\hp\\.conda\\envs\\rscb\\lib\\site-packages (from huggingface-hub->CTransformers) (3.13.1)\n",
      "Requirement already satisfied: fsspec>=2023.5.0 in c:\\users\\hp\\.conda\\envs\\rscb\\lib\\site-packages (from huggingface-hub->CTransformers) (2024.2.0)\n",
      "Requirement already satisfied: requests in c:\\users\\hp\\.conda\\envs\\rscb\\lib\\site-packages (from huggingface-hub->CTransformers) (2.31.0)\n",
      "Requirement already satisfied: tqdm>=4.42.1 in c:\\users\\hp\\.conda\\envs\\rscb\\lib\\site-packages (from huggingface-hub->CTransformers) (4.66.2)\n",
      "Requirement already satisfied: pyyaml>=5.1 in c:\\users\\hp\\.conda\\envs\\rscb\\lib\\site-packages (from huggingface-hub->CTransformers) (6.0.1)\n",
      "Requirement already satisfied: typing-extensions>=3.7.4.3 in c:\\users\\hp\\.conda\\envs\\rscb\\lib\\site-packages (from huggingface-hub->CTransformers) (4.10.0)\n",
      "Requirement already satisfied: packaging>=20.9 in c:\\users\\hp\\.conda\\envs\\rscb\\lib\\site-packages (from huggingface-hub->CTransformers) (23.2)\n",
      "Requirement already satisfied: colorama in c:\\users\\hp\\.conda\\envs\\rscb\\lib\\site-packages (from tqdm>=4.42.1->huggingface-hub->CTransformers) (0.4.6)\n",
      "Requirement already satisfied: charset-normalizer<4,>=2 in c:\\users\\hp\\.conda\\envs\\rscb\\lib\\site-packages (from requests->huggingface-hub->CTransformers) (3.3.2)\n",
      "Requirement already satisfied: idna<4,>=2.5 in c:\\users\\hp\\.conda\\envs\\rscb\\lib\\site-packages (from requests->huggingface-hub->CTransformers) (3.6)\n",
      "Requirement already satisfied: urllib3<3,>=1.21.1 in c:\\users\\hp\\.conda\\envs\\rscb\\lib\\site-packages (from requests->huggingface-hub->CTransformers) (2.2.1)\n",
      "Requirement already satisfied: certifi>=2017.4.17 in c:\\users\\hp\\.conda\\envs\\rscb\\lib\\site-packages (from requests->huggingface-hub->CTransformers) (2024.2.2)\n",
      "Note: you may need to restart the kernel to use updated packages.\n"
     ]
    }
   ],
   "source": [
    "%pip install CTransformers"
   ]
  },
  {
   "cell_type": "code",
   "execution_count": 23,
   "metadata": {},
   "outputs": [],
   "source": [
    "llm=CTransformers(model=\"Model/llama-2-7b-chat.ggmlv3.q4_0.bin\",\n",
    "                  model_type=\"llama\",\n",
    "                  config={'max_new_tokens':1024,\n",
    "                          'temperature':0.8})"
   ]
  },
  {
   "cell_type": "code",
   "execution_count": 25,
   "metadata": {},
   "outputs": [],
   "source": [
    "qa=RetrievalQA.from_chain_type(\n",
    "    llm=llm, \n",
    "    chain_type=\"stuff\", \n",
    "    retriever=docsearch.as_retriever(search_kwargs={'k': 2}),\n",
    "    return_source_documents=True, \n",
    "    chain_type_kwargs=chain_type_kwargs)"
   ]
  },
  {
   "cell_type": "code",
   "execution_count": null,
   "metadata": {},
   "outputs": [],
   "source": [
    "while True:\n",
    "    user_input=input(f\"Input Prompt:\")\n",
    "    result=qa({\"query\": user_input})\n",
    "    print(\"Response : \", result[\"result\"])"
   ]
  }
 ],
 "metadata": {
  "kernelspec": {
   "display_name": "rscb",
   "language": "python",
   "name": "python3"
  },
  "language_info": {
   "codemirror_mode": {
    "name": "ipython",
    "version": 3
   },
   "file_extension": ".py",
   "mimetype": "text/x-python",
   "name": "python",
   "nbconvert_exporter": "python",
   "pygments_lexer": "ipython3",
   "version": "3.8.18"
  }
 },
 "nbformat": 4,
 "nbformat_minor": 2
}
